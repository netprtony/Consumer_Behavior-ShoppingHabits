{
 "cells": [
  {
   "cell_type": "code",
   "execution_count": 2,
   "metadata": {},
   "outputs": [
    {
     "name": "stdout",
     "output_type": "stream",
     "text": [
      "+---------+------+---+--------------+--------------+----------------+-----------------------+------------+-------------+--------------+----------+-----------+--------------+\n",
      "|Person ID|Gender|Age|    Occupation|Sleep Duration|Quality of Sleep|Physical Activity Level|Stress Level| BMI Category|Blood Pressure|Heart Rate|Daily Steps|Sleep Disorder|\n",
      "+---------+------+---+--------------+--------------+----------------+-----------------------+------------+-------------+--------------+----------+-----------+--------------+\n",
      "|        1|  Male| 27|      Software|           6.1|               6|                     42|           6|   Overweight|        126/83|        77|       4200|          None|\n",
      "|        2|  Male| 28|      Engineer|           6.2|               6|                     60|           8|       Normal|        125/80|        75|      10000|          None|\n",
      "|        3|  Male| 28|        Doctor|           6.2|               6|                     60|           8|       Normal|        125/80|        75|      10000|          None|\n",
      "|        4|  Male| 28|        Doctor|           5.9|               4|                     30|           8|        Obese|        140/90|        85|       3000|   Sleep Apnea|\n",
      "|        5|  Male| 28|         Sales|           5.9|               4|                     30|           8|        Obese|        140/90|        85|       3000|   Sleep Apnea|\n",
      "|        6|  Male| 28|Representative|           5.9|               4|                     30|           8|        Obese|        140/90|        85|       3000|      Insomnia|\n",
      "|        7|  Male| 29|         Sales|           6.3|               6|                     40|           7|        Obese|        140/90|        82|       3500|      Insomnia|\n",
      "|        8|  Male| 29|Representative|           7.8|               7|                     75|           6|       Normal|        120/80|        70|       8000|          None|\n",
      "|        9|  Male| 29|      Software|           7.8|               7|                     75|           6|       Normal|        120/80|        70|       8000|          None|\n",
      "|       10|  Male| 29|      Engineer|           7.8|               7|                     75|           6|       Normal|        120/80|        70|       8000|          None|\n",
      "|       11|  Male| 29|       Teacher|           6.1|               6|                     30|           8|       Normal|        120/80|        70|       8000|          None|\n",
      "|       12|  Male| 29|        Doctor|           7.8|               7|                     75|           6|       Normal|        120/80|        70|       8000|          None|\n",
      "|       13|  Male| 29|        Doctor|           6.1|               6|                     30|           8|       Normal|        120/80|        70|       8000|          None|\n",
      "|       14|  Male| 29|        Doctor|           6.0|               6|                     30|           8|       Normal|        120/80|        70|       8000|          None|\n",
      "|       15|  Male| 29|        Doctor|           6.0|               6|                     30|           8|       Normal|        120/80|        70|       8000|          None|\n",
      "|       16|  Male| 29|        Doctor|           6.0|               6|                     30|           8|       Normal|        120/80|        70|       8000|          None|\n",
      "|       17|Female| 29|        Doctor|           6.5|               5|                     40|           7|Normal Weight|        132/87|        80|       4000|   Sleep Apnea|\n",
      "|       18|  Male| 29|        Doctor|           6.0|               6|                     30|           8|       Normal|        120/80|        70|       8000|   Sleep Apnea|\n",
      "|       19|Female| 29|        Doctor|           6.5|               5|                     40|           7|Normal Weight|        132/87|        80|       4000|      Insomnia|\n",
      "|       20|  Male| 30|        Doctor|           7.6|               7|                     75|           6|       Normal|        120/80|        70|       8000|          None|\n",
      "+---------+------+---+--------------+--------------+----------------+-----------------------+------------+-------------+--------------+----------+-----------+--------------+\n",
      "only showing top 20 rows\n",
      "\n"
     ]
    }
   ],
   "source": [
    "from pyspark.sql import SparkSession\n",
    "\n",
    "# Khởi tạo Spark Session\n",
    "spark = SparkSession.builder \\\n",
    "    .appName(\"Sleep Heathy and Life Style\") \\\n",
    "    .getOrCreate()\n",
    "\n",
    "# Đọc dữ liệu từ HDFS\n",
    "hdfs_path = \"hdfs://localhost:9000/netprtony/14-Sleep_health_and_lifestyle_dataset.csv\"\n",
    "df = spark.read.csv(hdfs_path, header=True, inferSchema=True)\n",
    "\n",
    "# Hiển thị dữ liệu\n",
    "df.show()\n",
    "\n"
   ]
  },
  {
   "cell_type": "code",
   "execution_count": 3,
   "metadata": {},
   "outputs": [
    {
     "name": "stdout",
     "output_type": "stream",
     "text": [
      "+---------+------+---+----------+--------------+----------------+-----------------------+------------+------------+--------------+----------+-----------+--------------+\n",
      "|Person ID|Gender|Age|Occupation|Sleep Duration|Quality of Sleep|Physical Activity Level|Stress Level|BMI Category|Blood Pressure|Heart Rate|Daily Steps|Sleep Disorder|\n",
      "+---------+------+---+----------+--------------+----------------+-----------------------+------------+------------+--------------+----------+-----------+--------------+\n",
      "|        0|     0|  0|         0|             0|               0|                      0|           0|           0|             0|         0|          0|             0|\n",
      "|        0|     0|  0|         0|             0|               0|                      0|           0|           0|             0|         0|          0|             0|\n",
      "|        0|     0|  0|         0|             0|               0|                      0|           0|           0|             0|         0|          0|             0|\n",
      "|        0|     0|  0|         0|             0|               0|                      0|           0|           0|             0|         0|          0|             0|\n",
      "|        0|     0|  0|         0|             0|               0|                      0|           0|           0|             0|         0|          0|             0|\n",
      "|        0|     0|  0|         0|             0|               0|                      0|           0|           0|             0|         0|          0|             0|\n",
      "|        0|     0|  0|         0|             0|               0|                      0|           0|           0|             0|         0|          0|             0|\n",
      "|        0|     0|  0|         0|             0|               0|                      0|           0|           0|             0|         0|          0|             0|\n",
      "|        0|     0|  0|         0|             0|               0|                      0|           0|           0|             0|         0|          0|             0|\n",
      "|        0|     0|  0|         0|             0|               0|                      0|           0|           0|             0|         0|          0|             0|\n",
      "|        0|     0|  0|         0|             0|               0|                      0|           0|           0|             0|         0|          0|             0|\n",
      "|        0|     0|  0|         0|             0|               0|                      0|           0|           0|             0|         0|          0|             0|\n",
      "|        0|     0|  0|         0|             0|               0|                      0|           0|           0|             0|         0|          0|             0|\n",
      "|        0|     0|  0|         0|             0|               0|                      0|           0|           0|             0|         0|          0|             0|\n",
      "|        0|     0|  0|         0|             0|               0|                      0|           0|           0|             0|         0|          0|             0|\n",
      "|        0|     0|  0|         0|             0|               0|                      0|           0|           0|             0|         0|          0|             0|\n",
      "|        0|     0|  0|         0|             0|               0|                      0|           0|           0|             0|         0|          0|             0|\n",
      "|        0|     0|  0|         0|             0|               0|                      0|           0|           0|             0|         0|          0|             0|\n",
      "|        0|     0|  0|         0|             0|               0|                      0|           0|           0|             0|         0|          0|             0|\n",
      "|        0|     0|  0|         0|             0|               0|                      0|           0|           0|             0|         0|          0|             0|\n",
      "+---------+------+---+----------+--------------+----------------+-----------------------+------------+------------+--------------+----------+-----------+--------------+\n",
      "only showing top 20 rows\n",
      "\n"
     ]
    }
   ],
   "source": [
    "# Kiểm tra số lượng giá trị null trong mỗi cột\n",
    "df.select([df[col].isNull().cast(\"int\").alias(col) for col in df.columns]).show()"
   ]
  },
  {
   "cell_type": "code",
   "execution_count": 4,
   "metadata": {},
   "outputs": [],
   "source": [
    "# Loại bỏ các hàng có giá trị null (nếu có)\n",
    "df_cleaned = df.dropna()"
   ]
  },
  {
   "cell_type": "code",
   "execution_count": 5,
   "metadata": {},
   "outputs": [
    {
     "name": "stdout",
     "output_type": "stream",
     "text": [
      "root\n",
      " |-- Person ID: integer (nullable = true)\n",
      " |-- Gender: string (nullable = true)\n",
      " |-- Age: integer (nullable = true)\n",
      " |-- Occupation: string (nullable = true)\n",
      " |-- Sleep Duration: double (nullable = true)\n",
      " |-- Quality of Sleep: integer (nullable = true)\n",
      " |-- Physical Activity Level: integer (nullable = true)\n",
      " |-- Stress Level: integer (nullable = true)\n",
      " |-- BMI Category: string (nullable = true)\n",
      " |-- Blood Pressure: string (nullable = true)\n",
      " |-- Heart Rate: integer (nullable = true)\n",
      " |-- Daily Steps: integer (nullable = true)\n",
      " |-- Sleep Disorder: string (nullable = true)\n",
      "\n"
     ]
    }
   ],
   "source": [
    "# Kiểm tra kiểu dữ liệu\n",
    "df.printSchema()"
   ]
  },
  {
   "cell_type": "code",
   "execution_count": 7,
   "metadata": {},
   "outputs": [],
   "source": [
    "from pyspark.sql.functions import trim, lower\n",
    "\n",
    "# Chuẩn hóa cột 'Occupation'\n",
    "df_cleaned = df_cleaned.withColumn(\"Occupation\", trim(lower(df_cleaned[\"Occupation\"])))"
   ]
  },
  {
   "cell_type": "code",
   "execution_count": 8,
   "metadata": {},
   "outputs": [],
   "source": [
    "# Loại bỏ các hàng có tuổi âm (nếu có)\n",
    "df_cleaned = df_cleaned.filter(df_cleaned.Age >= 0)"
   ]
  },
  {
   "cell_type": "code",
   "execution_count": 9,
   "metadata": {},
   "outputs": [
    {
     "name": "stdout",
     "output_type": "stream",
     "text": [
      "+---------+------+---+--------------+--------------+----------------+-----------------------+------------+-------------+--------------+----------+-----------+--------------+\n",
      "|Person ID|Gender|Age|Occupation    |Sleep Duration|Quality of Sleep|Physical Activity Level|Stress Level|BMI Category |Blood Pressure|Heart Rate|Daily Steps|Sleep Disorder|\n",
      "+---------+------+---+--------------+--------------+----------------+-----------------------+------------+-------------+--------------+----------+-----------+--------------+\n",
      "|1        |Male  |27 |software      |6.1           |6               |42                     |6           |Overweight   |126/83        |77        |4200       |None          |\n",
      "|2        |Male  |28 |engineer      |6.2           |6               |60                     |8           |Normal       |125/80        |75        |10000      |None          |\n",
      "|3        |Male  |28 |doctor        |6.2           |6               |60                     |8           |Normal       |125/80        |75        |10000      |None          |\n",
      "|4        |Male  |28 |doctor        |5.9           |4               |30                     |8           |Obese        |140/90        |85        |3000       |Sleep Apnea   |\n",
      "|5        |Male  |28 |sales         |5.9           |4               |30                     |8           |Obese        |140/90        |85        |3000       |Sleep Apnea   |\n",
      "|6        |Male  |28 |representative|5.9           |4               |30                     |8           |Obese        |140/90        |85        |3000       |Insomnia      |\n",
      "|7        |Male  |29 |sales         |6.3           |6               |40                     |7           |Obese        |140/90        |82        |3500       |Insomnia      |\n",
      "|8        |Male  |29 |representative|7.8           |7               |75                     |6           |Normal       |120/80        |70        |8000       |None          |\n",
      "|9        |Male  |29 |software      |7.8           |7               |75                     |6           |Normal       |120/80        |70        |8000       |None          |\n",
      "|10       |Male  |29 |engineer      |7.8           |7               |75                     |6           |Normal       |120/80        |70        |8000       |None          |\n",
      "|11       |Male  |29 |teacher       |6.1           |6               |30                     |8           |Normal       |120/80        |70        |8000       |None          |\n",
      "|12       |Male  |29 |doctor        |7.8           |7               |75                     |6           |Normal       |120/80        |70        |8000       |None          |\n",
      "|13       |Male  |29 |doctor        |6.1           |6               |30                     |8           |Normal       |120/80        |70        |8000       |None          |\n",
      "|14       |Male  |29 |doctor        |6.0           |6               |30                     |8           |Normal       |120/80        |70        |8000       |None          |\n",
      "|15       |Male  |29 |doctor        |6.0           |6               |30                     |8           |Normal       |120/80        |70        |8000       |None          |\n",
      "|16       |Male  |29 |doctor        |6.0           |6               |30                     |8           |Normal       |120/80        |70        |8000       |None          |\n",
      "|17       |Female|29 |doctor        |6.5           |5               |40                     |7           |Normal Weight|132/87        |80        |4000       |Sleep Apnea   |\n",
      "|18       |Male  |29 |doctor        |6.0           |6               |30                     |8           |Normal       |120/80        |70        |8000       |Sleep Apnea   |\n",
      "|19       |Female|29 |doctor        |6.5           |5               |40                     |7           |Normal Weight|132/87        |80        |4000       |Insomnia      |\n",
      "|20       |Male  |30 |doctor        |7.6           |7               |75                     |6           |Normal       |120/80        |70        |8000       |None          |\n",
      "+---------+------+---+--------------+--------------+----------------+-----------------------+------------+-------------+--------------+----------+-----------+--------------+\n",
      "only showing top 20 rows\n",
      "\n"
     ]
    }
   ],
   "source": [
    "# Hiển thị dữ liệu đã được làm sạch\n",
    "df_cleaned.show(truncate=False)\n",
    "\n",
    "# Dừng SparkSession nếu không còn sử dụng\n",
    "spark.stop()"
   ]
  },
  {
   "cell_type": "code",
   "execution_count": 13,
   "metadata": {},
   "outputs": [],
   "source": [
    "from pyspark.sql import SparkSession\n",
    "\n",
    "# Tạo SparkSession\n",
    "spark = SparkSession.builder \\\n",
    "    .appName(\"DataUploadToMongoDB\") \\\n",
    "    .config(\"spark.mongodb.output.uri\", \"mongodb://localhost:27017/database.Sleep-Heathy\") \\\n",
    "    .getOrCreate()\n",
    "\n",
    "# Giả sử df_cleaned là DataFrame đã được xử lý\n",
    "df_cleaned.write \\\n",
    "    .format(\"mongo\") \\\n",
    "    .mode(\"append\") \\\n",
    "    .save()\n",
    "\n",
    "# Dừng SparkSession\n",
    "spark.stop()\n"
   ]
  }
 ],
 "metadata": {
  "kernelspec": {
   "display_name": "env",
   "language": "python",
   "name": "python3"
  },
  "language_info": {
   "codemirror_mode": {
    "name": "ipython",
    "version": 3
   },
   "file_extension": ".py",
   "mimetype": "text/x-python",
   "name": "python",
   "nbconvert_exporter": "python",
   "pygments_lexer": "ipython3",
   "version": "3.11.9"
  }
 },
 "nbformat": 4,
 "nbformat_minor": 2
}
